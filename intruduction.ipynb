{
 "cells": [
  {
   "cell_type": "markdown",
   "metadata": {},
   "source": [
    "# clustering"
   ]
  },
  {
   "cell_type": "markdown",
   "metadata": {},
   "source": [
    "## unsupervised learning ni superviseddan farqi bu yerda endi yorliq(label) berilmaydi"
   ]
  },
  {
   "cell_type": "markdown",
   "metadata": {},
   "source": [
    "### bizda endi qandaydir malumotlar bor shu malumotlarni qandaydir gruhlarga ajratishimiz mumkin "
   ]
  },
  {
   "cell_type": "markdown",
   "metadata": {},
   "source": [
    "## clusterlash judaa kop joylarda ishlatiladi misol: onlineda mijozlarni ajratishda(daramodi, yoshi)bo'yicha"
   ]
  },
  {
   "cell_type": "markdown",
   "metadata": {},
   "source": [
    "## klaster nima degani?\n",
    "### klasterdagi boshqa obyektlarga oxshash va boshqa klasterdagi obyektlarga oxshamaydigan obyektlar gruhi"
   ]
  },
  {
   "cell_type": "markdown",
   "metadata": {},
   "source": [
    "# Cluster lash qayerda ishlatiladi?"
   ]
  },
  {
   "cell_type": "markdown",
   "metadata": {},
   "source": [
    "## savdo va marketing\n",
    "- mijozlarni harid odatlarini aniqlash(bu mahsulot yoqdimi bu ham yoqadi)\n",
    "- tavsiya tizimi(youtube)\n",
    "## bank va moliya\n",
    "- firibgarliklarni aniqlash (misol sizni kunlik ishlatadigan narsalaringiz bor no olasiz bozorlik qilasiz bu narsa sizda ozgarsa shu ozgarishni aniqlash uchun clusterlash)\n",
    "- customer churn (buni biz kurgandik klassificationda buni ham clusterda qilsa boladi)\n",
    "## sug'urta\n",
    "- firibgarlik(hozirda juda kop ishlatilmoqda)\n",
    "- mijozlarni riskini aniqlash(misol shu mijozga sugurta berish togrimi yoki yoqmi)\n",
    "## Nashriyot\n",
    "- yangiliklarni mavzu boyicha saralash(yangilik korayotganda sizga aynan qanday malumotlar qiziq shuni aniqlashda)\n",
    "## tibbiyot\n",
    "- kasallarning odatlarini aniqlashda(misol manabu gruhdagi odamlar chekishni)\n",
    "## bialogiya\n",
    "- DNK tahlillari\n",
    "- genetik markerlarni tahlil qilish orqali qarindoshlikni aniqlash"
   ]
  },
  {
   "cell_type": "markdown",
   "metadata": {},
   "source": [
    "# klasterlash qayerda ishlatiladi?"
   ]
  },
  {
   "cell_type": "markdown",
   "metadata": {},
   "source": [
    "## malumotlarni tahlil qilishda\n",
    "## matnlardan hulosa qilish\n",
    "## gayritabiy qiymatlarni aniqlash\n",
    "## dublicat (qaytarilgan) qiymatlarni tozalash\n",
    "## malumotlarga ishlov berish\n",
    "##"
   ]
  },
  {
   "cell_type": "markdown",
   "metadata": {},
   "source": [
    "## misol bizni malumotlarimizda bir xil malumot kop takrorlangan buni unsupervised orqali tozalab machina learningga yuborishimiz mumkin"
   ]
  },
  {
   "cell_type": "code",
   "execution_count": null,
   "metadata": {},
   "outputs": [],
   "source": []
  }
 ],
 "metadata": {
  "language_info": {
   "name": "python"
  }
 },
 "nbformat": 4,
 "nbformat_minor": 2
}
